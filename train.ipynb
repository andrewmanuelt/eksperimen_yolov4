{
 "cells": [
  {
   "cell_type": "code",
   "execution_count": 13,
   "metadata": {},
   "outputs": [],
   "source": [
    "import sys\n",
    "sys.path.append(\"..\")"
   ]
  },
  {
   "cell_type": "code",
   "execution_count": 14,
   "metadata": {},
   "outputs": [],
   "source": [
    "from utils import DataGenerator, read_annotation_lines\n",
    "from models import Yolov4"
   ]
  },
  {
   "cell_type": "code",
   "execution_count": 15,
   "metadata": {},
   "outputs": [
    {
     "name": "stdout",
     "output_type": "stream",
     "text": [
      "nms iou: 0.413 score: 0.3\n",
      "Epoch 1/20\n",
      " 1/67 [..............................] - ETA: 50:58 - loss: 130238.2656"
     ]
    }
   ],
   "source": [
    "train_lines, val_lines = read_annotation_lines('dataset/_annotations.txt', test_size=0.3)\n",
    "\n",
    "folder_path = 'dataset/main'\n",
    "\n",
    "class_name_path = 'dataset/_classes.txt'\n",
    "\n",
    "data_gen_train = DataGenerator(train_lines, class_name_path, folder_path)\n",
    "data_gen_val = DataGenerator(val_lines, class_name_path, folder_path)\n",
    "\n",
    "model = Yolov4(weight_path=None, class_name_path=class_name_path)\n",
    "\n",
    "model.fit(data_gen_train, epochs=20, val_data_gen=data_gen_val)"
   ]
  },
  {
   "cell_type": "code",
   "execution_count": null,
   "metadata": {},
   "outputs": [],
   "source": [
    "model.predict('dataset/valid/BloodImage_00017_jpg.rf.4cdae67028495154a9a548c78b6705f6.jpg', figsize=(5, 5), random_color=True)"
   ]
  },
  {
   "cell_type": "code",
   "execution_count": null,
   "metadata": {},
   "outputs": [],
   "source": [
    "model.predict('dataset/valid/BloodImage_00392_jpg.rf.f4d442b07a19d941c870a9e3a2b193a9.jpg', figsize=(5, 5), random_color=True)"
   ]
  },
  {
   "cell_type": "code",
   "execution_count": null,
   "metadata": {},
   "outputs": [],
   "source": [
    "model.predict('dataset/valid/BloodImage_00377_jpg.rf.0c8524be5de7a9ef2d1faa43043e0fe9.jpg', figsize=(5, 5), random_color=True)"
   ]
  }
 ],
 "metadata": {
  "colab": {
   "authorship_tag": "ABX9TyOi+1wkzoRXzgNQN7U2NBPg",
   "default_view": {},
   "name": "Untitled",
   "provenance": [],
   "views": {}
  },
  "kernelspec": {
   "display_name": "Python 3",
   "language": "python",
   "name": "python3"
  },
  "language_info": {
   "codemirror_mode": {
    "name": "ipython",
    "version": 3
   },
   "file_extension": ".py",
   "mimetype": "text/x-python",
   "name": "python",
   "nbconvert_exporter": "python",
   "pygments_lexer": "ipython3",
   "version": "3.11.1"
  }
 },
 "nbformat": 4,
 "nbformat_minor": 4
}
